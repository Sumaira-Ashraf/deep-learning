{
  "cells": [
    {
      "cell_type": "markdown",
      "metadata": {
        "id": "view-in-github",
        "colab_type": "text"
      },
      "source": [
        "<a href=\"https://colab.research.google.com/github/Sumaira-Ashraf/deep-learning/blob/main/Q%26A_With_Your_Company_Documents_Using_GenAI.ipynb\" target=\"_parent\"><img src=\"https://colab.research.google.com/assets/colab-badge.svg\" alt=\"Open In Colab\"/></a>"
      ]
    },
    {
      "cell_type": "code",
      "execution_count": null,
      "id": "1dea4549",
      "metadata": {
        "id": "1dea4549",
        "outputId": "4c29f1e5-6ae6-45bc-d172-178cecc0eaf3"
      },
      "outputs": [
        {
          "data": {
            "text/plain": [
              "True"
            ]
          },
          "execution_count": 1,
          "metadata": {},
          "output_type": "execute_result"
        }
      ],
      "source": [
        "import os\n",
        "from dotenv import load_dotenv\n",
        "\n",
        "load_dotenv()"
      ]
    },
    {
      "cell_type": "code",
      "execution_count": null,
      "id": "5a747636",
      "metadata": {
        "id": "5a747636"
      },
      "outputs": [],
      "source": [
        "# oapi_key=abcd-------------------xyz"
      ]
    },
    {
      "cell_type": "code",
      "execution_count": null,
      "id": "46ed2968",
      "metadata": {
        "id": "46ed2968"
      },
      "outputs": [],
      "source": [
        "api_key = os.getenv(\"oapi_key\")"
      ]
    },
    {
      "cell_type": "code",
      "execution_count": null,
      "id": "15532f48",
      "metadata": {
        "id": "15532f48"
      },
      "outputs": [],
      "source": [
        "from langchain.document_loaders import CSVLoader"
      ]
    },
    {
      "cell_type": "code",
      "execution_count": null,
      "id": "8f0e787e",
      "metadata": {
        "id": "8f0e787e"
      },
      "outputs": [],
      "source": [
        "data = CSVLoader(\"Clothing_1000.csv\", encoding = \"UTF-8\")\n",
        "\n",
        "#!pip install langchain_openai"
      ]
    },
    {
      "cell_type": "code",
      "execution_count": null,
      "id": "9b47cbd2",
      "metadata": {
        "id": "9b47cbd2",
        "outputId": "9e6621ed-7941-4a43-99d4-8b1ab43bda65"
      },
      "outputs": [
        {
          "data": {
            "text/plain": [
              "<langchain_community.document_loaders.csv_loader.CSVLoader at 0x229d6376090>"
            ]
          },
          "execution_count": 6,
          "metadata": {},
          "output_type": "execute_result"
        }
      ],
      "source": [
        "data"
      ]
    },
    {
      "cell_type": "code",
      "execution_count": null,
      "id": "71e92880",
      "metadata": {
        "id": "71e92880"
      },
      "outputs": [],
      "source": [
        "from langchain_openai import ChatOpenAI, OpenAIEmbeddings\n",
        "from langchain.vectorstores import DocArrayInMemorySearch\n",
        "from langchain.indexes import VectorstoreIndexCreator"
      ]
    },
    {
      "cell_type": "code",
      "execution_count": null,
      "id": "e1a65635",
      "metadata": {
        "id": "e1a65635"
      },
      "outputs": [],
      "source": [
        "embeddings = OpenAIEmbeddings(api_key=api_key)"
      ]
    },
    {
      "cell_type": "code",
      "execution_count": null,
      "id": "75d6f216",
      "metadata": {
        "id": "75d6f216"
      },
      "outputs": [],
      "source": [
        "db = VectorstoreIndexCreator(vectorstore_cls= DocArrayInMemorySearch,\n",
        "                               embedding=embeddings).from_loaders([data])"
      ]
    },
    {
      "cell_type": "code",
      "execution_count": null,
      "id": "9033131d",
      "metadata": {
        "id": "9033131d"
      },
      "outputs": [],
      "source": [
        "q = \"Please list all your the shirts with sun protection in a table in markdown and summarize each one.\""
      ]
    },
    {
      "cell_type": "code",
      "execution_count": null,
      "id": "78c06a23",
      "metadata": {
        "id": "78c06a23"
      },
      "outputs": [],
      "source": [
        "llm = ChatOpenAI(model= \"gpt-3.5-turbo\", api_key=api_key, temperature = 0)"
      ]
    },
    {
      "cell_type": "code",
      "execution_count": null,
      "id": "1a42fca2",
      "metadata": {
        "id": "1a42fca2"
      },
      "outputs": [],
      "source": [
        "response = db.query(q, llm = llm)"
      ]
    },
    {
      "cell_type": "code",
      "execution_count": null,
      "id": "19227ea0",
      "metadata": {
        "id": "19227ea0"
      },
      "outputs": [],
      "source": [
        "from IPython.display import Markdown, display"
      ]
    },
    {
      "cell_type": "code",
      "execution_count": null,
      "id": "e5cbfa85",
      "metadata": {
        "id": "e5cbfa85",
        "outputId": "88628b30-c42e-4e0b-b0bb-f5a23583af6f"
      },
      "outputs": [
        {
          "data": {
            "text/markdown": [
              "| Shirt Name                                | Description                                                                                                                                                                                                                                                                                                                                                                                                                                                                                                                                                                                                                                                                                                                                                                                                                                                                                                                                                                                                                                                                                                                                                                                                                                                                                                                                                                                                                                                                                                                                                                                                                                                                                                                                                                                                                                                                                                                                                                                                                                                                                                                                                                                                                                                                                                                                                                                                                                                                                                                                                                                                                                                                                                                                                                                                                                                                                                                                                                                                                                                                                                                                                                                                                                                                                                                                                                                                                                                                                                                                                                                                                                                                                                                                                                                                                                                                                                                                                                                                                                                                                                                                                                                                                                                                                                                                                                                                                                                                                                                                                                                                                                                                                                                                                                                                                                                                                                                                                                                                                                                                                                                                                                                                                                                                                                                                                                                                                                                                                                                                                                                                                                                                                                                                                                                                                                                                                                                                                                                                                                                                                                                                                                                                                                                                                                                                                                                                                                                                                                                                                                                                                                                                                                                                                                                                                                                                                                                                                                                                                                                                                                                                                                                                                                                                                                                                                                                                                                                                                                                                                                                                                                                                                                                                                                                                                                                                                                                                                                                                                                                                                                                                                                                                                                                                                                                                                                                                                                                                                                                                                                                                                                                                                                                                                                                                                                                                                                                                                                                                                                                                                                                                                                                                                                                                                                                                                                                                                                                                                                                                                                                                                                                                                                                                                                                                                                                                                                                                                                                                                                                                                                                                                                                                                                                                                                                                                                                                                                                                                                                                                                                                                                                                                                                                                                                                                                                                                                                                                                                                                                                                                                                                                                                                                                                                                                                                                                                                                                                                                                                                                                                                                                                                                                                                                                                                                                                                                                                                                                                                                                                                                                                                                                                                                                                                                                                                                                                                                                                                                                                                                                                                                                                                                                                                                                                                                                                                                                                                                                                                                                                                                                                                                                                                                                                                                                                                "
            ],
            "text/plain": [
              "<IPython.core.display.Markdown object>"
            ]
          },
          "metadata": {},
          "output_type": "display_data"
        }
      ],
      "source": [
        "display(Markdown(response))"
      ]
    },
    {
      "cell_type": "markdown",
      "id": "c37b1ff6",
      "metadata": {
        "id": "c37b1ff6"
      },
      "source": [
        "# Alternate Solution"
      ]
    },
    {
      "cell_type": "code",
      "execution_count": null,
      "id": "cd492936",
      "metadata": {
        "id": "cd492936"
      },
      "outputs": [],
      "source": [
        "docs = data.load()"
      ]
    },
    {
      "cell_type": "code",
      "execution_count": null,
      "id": "29b38612",
      "metadata": {
        "id": "29b38612",
        "outputId": "0328fac4-4601-456c-97a7-69b95973a90b"
      },
      "outputs": [
        {
          "data": {
            "text/plain": [
              "1000"
            ]
          },
          "execution_count": 16,
          "metadata": {},
          "output_type": "execute_result"
        }
      ],
      "source": [
        "len(docs)"
      ]
    },
    {
      "cell_type": "code",
      "execution_count": null,
      "id": "4ffc1b16",
      "metadata": {
        "id": "4ffc1b16"
      },
      "outputs": [],
      "source": [
        "from langchain.chains import RetrievalQA"
      ]
    },
    {
      "cell_type": "code",
      "execution_count": null,
      "id": "ba6bf5ea",
      "metadata": {
        "id": "ba6bf5ea"
      },
      "outputs": [],
      "source": [
        "db = DocArrayInMemorySearch.from_documents(docs, embedding= embeddings)"
      ]
    },
    {
      "cell_type": "code",
      "execution_count": null,
      "id": "e67bb1b9",
      "metadata": {
        "id": "e67bb1b9"
      },
      "outputs": [],
      "source": [
        "qa = RetrievalQA.from_chain_type(retriever = db.as_retriever(), llm = llm)"
      ]
    },
    {
      "cell_type": "code",
      "execution_count": null,
      "id": "6cec0f79",
      "metadata": {
        "id": "6cec0f79",
        "outputId": "9285476c-abf5-4264-d863-1dec24f7e85f"
      },
      "outputs": [
        {
          "name": "stderr",
          "output_type": "stream",
          "text": [
            "C:\\Users\\CGDC\\anaconda3\\Lib\\site-packages\\langchain_core\\_api\\deprecation.py:119: LangChainDeprecationWarning: The method `Chain.run` was deprecated in langchain 0.1.0 and will be removed in 0.3.0. Use invoke instead.\n",
            "  warn_deprecated(\n"
          ]
        }
      ],
      "source": [
        "response = qa.run(q)"
      ]
    },
    {
      "cell_type": "code",
      "execution_count": null,
      "id": "7e2f96f0",
      "metadata": {
        "id": "7e2f96f0",
        "outputId": "0905248b-405a-464c-86a6-ede8870fb63b"
      },
      "outputs": [
        {
          "data": {
            "text/markdown": [
              "| Shirt Name                                | Description                                                                                                                                                                                                                                                                                                                                                                                                                                                                                                                                                                                                                                                                                                                                                                                                                                                                                                                                                                                                                                                                                                                                                                                                                                                                                                                                                                                                                                                                                                                                                                                                                                                                                                                                                                                                                                                                                                                                                                                                                                                                                                                                                                                                                                                                                                                                                                                                                                                                                                                                                                                                                                                                                                                                                                                                                                                                                                                                                                                                                                                                                                                                                                                                                                                                                                                                                                                                                                                                                                                                                                                                                                                                                                                                                                                                                                                                                                                                                                                                                                                                                                                                                                                                                                                                                                                                                                                                                                                                                                                                                                                                                                                                                                                                                                                                                                                                                                                                                                                                                                                                                                                                                                                                                                                                                                                                                                                                                                                                                                                                                                                                                                                                                                                                                                                                                                                                                                                                                                                                                                                                                                                                                                                                                                                                                                                                                                                                                                                                                                                                                                                                                                                                                                                                                                                                                                                                                                                                                                                                                                                                                                                                                                                                                                                                                                                                                                                                                                                                                                                                                                                                                                                                                                                                                                                                                                                                                                                                                                                                                                                                                                                                                                                                                                                                                                                                                                                                                                                                                                                                                                                                                                                                                                                                                                                                                                                                                                                                                                                                                                                                                                                                                                                                                                                                                                                                                                                                                                                                                                                                                                                                                                                                                                                                                                                                                                                                                                                                                                                                                                                                                                                                                                                                                                                                                                                                                                                                                                                                                                                                                                                                                                                                                                                                                                                                                                                                                                                                                                                                                                                                                                                                                                                                                                                                                                                                                                                                                                                                                                                                                                                                                                                                                                                                                                                                                                                                                                                                                                                                                                                                                                                                                                                                                                                                                                                                                                                                                                                                                                                                                                                                                                                                                                                                                                                                                                                                                                                                                                                                                                                                                                                                                                                                                                                                                                                                "
            ],
            "text/plain": [
              "<IPython.core.display.Markdown object>"
            ]
          },
          "metadata": {},
          "output_type": "display_data"
        }
      ],
      "source": [
        "display(Markdown(response))"
      ]
    },
    {
      "cell_type": "code",
      "execution_count": null,
      "id": "b44bd154",
      "metadata": {
        "id": "b44bd154"
      },
      "outputs": [],
      "source": []
    },
    {
      "cell_type": "code",
      "execution_count": null,
      "id": "bda7b97a",
      "metadata": {
        "id": "bda7b97a"
      },
      "outputs": [],
      "source": []
    },
    {
      "cell_type": "code",
      "execution_count": null,
      "id": "6e2e1fab",
      "metadata": {
        "id": "6e2e1fab"
      },
      "outputs": [],
      "source": []
    }
  ],
  "metadata": {
    "kernelspec": {
      "display_name": "Python 3 (ipykernel)",
      "language": "python",
      "name": "python3"
    },
    "language_info": {
      "codemirror_mode": {
        "name": "ipython",
        "version": 3
      },
      "file_extension": ".py",
      "mimetype": "text/x-python",
      "name": "python",
      "nbconvert_exporter": "python",
      "pygments_lexer": "ipython3",
      "version": "3.11.5"
    },
    "colab": {
      "provenance": [],
      "include_colab_link": true
    }
  },
  "nbformat": 4,
  "nbformat_minor": 5
}