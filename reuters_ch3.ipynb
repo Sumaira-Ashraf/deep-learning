{
  "nbformat": 4,
  "nbformat_minor": 0,
  "metadata": {
    "colab": {
      "provenance": [],
      "authorship_tag": "ABX9TyNSMd3yclpCyogY31Sx5rOP",
      "include_colab_link": true
    },
    "kernelspec": {
      "name": "python3",
      "display_name": "Python 3"
    },
    "language_info": {
      "name": "python"
    }
  },
  "cells": [
    {
      "cell_type": "markdown",
      "metadata": {
        "id": "view-in-github",
        "colab_type": "text"
      },
      "source": [
        "<a href=\"https://colab.research.google.com/github/Sumaira-Ashraf/deep-learning/blob/main/reuters_ch3.ipynb\" target=\"_parent\"><img src=\"https://colab.research.google.com/assets/colab-badge.svg\" alt=\"Open In Colab\"/></a>"
      ]
    },
    {
      "cell_type": "code",
      "execution_count": null,
      "metadata": {
        "colab": {
          "base_uri": "https://localhost:8080/"
        },
        "id": "TJjnjgBPG5Ha",
        "outputId": "5e99869c-97b0-4d37-988c-697fd695802a"
      },
      "outputs": [
        {
          "output_type": "stream",
          "name": "stdout",
          "text": [
            "Downloading data from https://storage.googleapis.com/tensorflow/tf-keras-datasets/reuters.npz\n",
            "\u001b[1m2110848/2110848\u001b[0m \u001b[32m━━━━━━━━━━━━━━━━━━━━\u001b[0m\u001b[37m\u001b[0m \u001b[1m0s\u001b[0m 0us/step\n"
          ]
        }
      ],
      "source": [
        "import tensorflow as tf\n",
        "import tensorflow as tf\n",
        "from tensorflow.keras.datasets import reuters\n",
        "from tensorflow.keras.preprocessing.text import Tokenizer\n",
        "from tensorflow.keras.preprocessing.sequence import pad_sequences\n",
        "\n",
        "(x_train, y_train), (x_test, y_test) = reuters.load_data(num_words=10000, test_split=0.2)\n",
        "\n",
        "#num_words=10000: This limits the vocabulary size to the top 10,000 most frequent words\n"
      ]
    },
    {
      "cell_type": "markdown",
      "source": [
        " **Decode the News Articles**"
      ],
      "metadata": {
        "id": "g8igyYJ9JFsE"
      }
    },
    {
      "cell_type": "code",
      "source": [
        "print(len(x_train[0]), y_train[0])\n",
        "print(len(x_train[1]), y_train[1])\n",
        "print(len(x_train[2]), y_train[2])"
      ],
      "metadata": {
        "colab": {
          "base_uri": "https://localhost:8080/"
        },
        "id": "4vAio154JbKT",
        "outputId": "d6538cae-2202-45dc-e4b4-0bad8dac9cac"
      },
      "execution_count": null,
      "outputs": [
        {
          "output_type": "stream",
          "name": "stdout",
          "text": [
            "87 3\n",
            "56 4\n",
            "139 3\n"
          ]
        }
      ]
    },
    {
      "cell_type": "code",
      "source": [
        "max([max(sequence) for sequence in x_train])"
      ],
      "metadata": {
        "colab": {
          "base_uri": "https://localhost:8080/"
        },
        "id": "keLNg-3AKJjh",
        "outputId": "78c71015-1861-4327-8413-e4a1bf6d89dd"
      },
      "execution_count": null,
      "outputs": [
        {
          "output_type": "execute_result",
          "data": {
            "text/plain": [
              "9999"
            ]
          },
          "metadata": {},
          "execution_count": 7
        }
      ]
    },
    {
      "cell_type": "markdown",
      "source": [
        "x_train[0] = 67, 84,22,482,26,7,48"
      ],
      "metadata": {
        "id": "NrURU2kEQRJF"
      }
    },
    {
      "cell_type": "code",
      "source": [
        "x_train[0]"
      ],
      "metadata": {
        "colab": {
          "base_uri": "https://localhost:8080/"
        },
        "id": "EgL2XZLtQR6g",
        "outputId": "f8d99a70-49e4-495b-914b-8075e04cbf62"
      },
      "execution_count": null,
      "outputs": [
        {
          "output_type": "execute_result",
          "data": {
            "text/plain": [
              "[1,\n",
              " 2,\n",
              " 2,\n",
              " 8,\n",
              " 43,\n",
              " 10,\n",
              " 447,\n",
              " 5,\n",
              " 25,\n",
              " 207,\n",
              " 270,\n",
              " 5,\n",
              " 3095,\n",
              " 111,\n",
              " 16,\n",
              " 369,\n",
              " 186,\n",
              " 90,\n",
              " 67,\n",
              " 7,\n",
              " 89,\n",
              " 5,\n",
              " 19,\n",
              " 102,\n",
              " 6,\n",
              " 19,\n",
              " 124,\n",
              " 15,\n",
              " 90,\n",
              " 67,\n",
              " 84,\n",
              " 22,\n",
              " 482,\n",
              " 26,\n",
              " 7,\n",
              " 48,\n",
              " 4,\n",
              " 49,\n",
              " 8,\n",
              " 864,\n",
              " 39,\n",
              " 209,\n",
              " 154,\n",
              " 6,\n",
              " 151,\n",
              " 6,\n",
              " 83,\n",
              " 11,\n",
              " 15,\n",
              " 22,\n",
              " 155,\n",
              " 11,\n",
              " 15,\n",
              " 7,\n",
              " 48,\n",
              " 9,\n",
              " 4579,\n",
              " 1005,\n",
              " 504,\n",
              " 6,\n",
              " 258,\n",
              " 6,\n",
              " 272,\n",
              " 11,\n",
              " 15,\n",
              " 22,\n",
              " 134,\n",
              " 44,\n",
              " 11,\n",
              " 15,\n",
              " 16,\n",
              " 8,\n",
              " 197,\n",
              " 1245,\n",
              " 90,\n",
              " 67,\n",
              " 52,\n",
              " 29,\n",
              " 209,\n",
              " 30,\n",
              " 32,\n",
              " 132,\n",
              " 6,\n",
              " 109,\n",
              " 15,\n",
              " 17,\n",
              " 12]"
            ]
          },
          "metadata": {},
          "execution_count": 16
        }
      ]
    },
    {
      "cell_type": "code",
      "source": [
        "print(reverse_word_index.get(67-3,'?'))\n",
        "print(reverse_word_index.get(84-3,'?'))\n",
        "print(reverse_word_index.get(22-3,'?'))\n",
        "print(reverse_word_index.get(482-3,'?'))\n",
        "print(reverse_word_index.get(26-3,'?'))\n",
        "print(reverse_word_index.get(7-3,'?'))\n",
        "print(reverse_word_index.get(48-3,'?'))\n",
        "#67, 84,22,482,26,7,48"
      ],
      "metadata": {
        "colab": {
          "base_uri": "https://localhost:8080/"
        },
        "id": "_RCizU5qQxYV",
        "outputId": "635d4a5e-beac-455c-81be-a81a4849e16a"
      },
      "execution_count": null,
      "outputs": [
        {
          "output_type": "stream",
          "name": "stdout",
          "text": [
            "share\n",
            "up\n",
            "from\n",
            "70\n",
            "cts\n",
            "in\n",
            "1986\n"
          ]
        }
      ]
    },
    {
      "cell_type": "code",
      "source": [
        "\" \".join([reverse_word_index.get(i-3,\"?\") for i in x_train[0]])"
      ],
      "metadata": {
        "colab": {
          "base_uri": "https://localhost:8080/",
          "height": 72
        },
        "id": "S_tcjVisRtvu",
        "outputId": "93fd57f7-e059-493a-d7c8-8dfc5fb3db0d"
      },
      "execution_count": null,
      "outputs": [
        {
          "output_type": "execute_result",
          "data": {
            "text/plain": [
              "'? ? ? said as a result of its december acquisition of space co it expects earnings per share in 1987 of 1 15 to 1 30 dlrs per share up from 70 cts in 1986 the company said pretax net should rise to nine to 10 mln dlrs from six mln dlrs in 1986 and rental operation revenues to 19 to 22 mln dlrs from 12 5 mln dlrs it said cash flow per share this year should be 2 50 to three dlrs reuter 3'"
            ],
            "application/vnd.google.colaboratory.intrinsic+json": {
              "type": "string"
            }
          },
          "metadata": {},
          "execution_count": 18
        }
      ]
    },
    {
      "cell_type": "code",
      "source": [
        "word_index = reuters.get_word_index()\n",
        "reverse_word_index = dict([(value, key) for (key, value) in word_index.items()])\n",
        "\n",
        "def decode_review(text):\n",
        "    return ' '.join([reverse_word_index.get(i - 3, '?') for i in text])\n",
        "\n",
        "print(decode_review(x_train[0]))"
      ],
      "metadata": {
        "colab": {
          "base_uri": "https://localhost:8080/"
        },
        "id": "oyBGjskhIOcU",
        "outputId": "ca10c4b4-24e6-4d85-f2f9-a9f70143a16d"
      },
      "execution_count": null,
      "outputs": [
        {
          "output_type": "stream",
          "name": "stdout",
          "text": [
            "? ? ? said as a result of its december acquisition of space co it expects earnings per share in 1987 of 1 15 to 1 30 dlrs per share up from 70 cts in 1986 the company said pretax net should rise to nine to 10 mln dlrs from six mln dlrs in 1986 and rental operation revenues to 19 to 22 mln dlrs from 12 5 mln dlrs it said cash flow per share this year should be 2 50 to three dlrs reuter 3\n"
          ]
        }
      ]
    },
    {
      "cell_type": "markdown",
      "source": [
        "**Prepare the Data for Training:**\n",
        "\n",
        "Tokenization:\n",
        "\n",
        "Breaks text into words or tokens: This process divides the text into individual words or phrases, which are the fundamental units of meaning.\n",
        "\n",
        "Assigns numerical indices to each token: Each unique token is assigned a unique integer, creating a vocabulary.\n",
        "\n",
        "Converts text to numerical sequences: The text documents are then represented as sequences of these numerical indices."
      ],
      "metadata": {
        "id": "o2ICORs0N4vc"
      }
    },
    {
      "cell_type": "code",
      "source": [
        "tokenizer = Tokenizer(num_words=10000)\n",
        "X_train = tokenizer.sequences_to_matrix(x_train, mode='binary')\n",
        "X_test = tokenizer.sequences_to_matrix(x_test, mode='binary')"
      ],
      "metadata": {
        "id": "xORA7wS0JOVL"
      },
      "execution_count": null,
      "outputs": []
    },
    {
      "cell_type": "markdown",
      "source": [
        "**One-Hot Encoding:**\n",
        "\n",
        "Creates a binary vector for each token: For each token in the vocabulary, a vector of zeros is created.\n",
        "\n",
        "Sets a single element to 1: The element corresponding to the specific token is set to 1.\n",
        "\n",
        "Represents categorical data: This technique is ideal for representing categorical data, such as words, where each category is mutually exclusive.\n",
        "\n",
        "Handling Categorical Data: One-hot encoding is effective for representing the different news categories in the Reuters dataset\n",
        "\n",
        "\n"
      ],
      "metadata": {
        "id": "TfTs_xB8TVJ2"
      }
    },
    {
      "cell_type": "code",
      "source": [
        "\n",
        "# Assuming y_train holds the raw training labels:\n",
        "y_train_categorical = tf.keras.utils.to_categorical(y_train)\n",
        "y_test_categorical = tf.keras.utils.to_categorical(y_test)\n",
        "\n",
        "# Now, y_train_categorical and y_test_categorical hold the one-hot encoded labels.\n",
        "# You can use them in your model training process"
      ],
      "metadata": {
        "id": "ZNrEBaTsLjmR"
      },
      "execution_count": null,
      "outputs": []
    },
    {
      "cell_type": "markdown",
      "source": [
        "**Understanding the Model Architecture**\n",
        "\n",
        "Let's break down the provided Keras model architecture step-by-step:\n",
        "\n",
        "**1. Sequential Model:**\n",
        "\n",
        "This is a linear stack of layers. Each layer processes the output of the previous layer.\n",
        "\n",
        "**2. Dense Layers:**\n",
        "\n",
        "First Dense Layer:\n",
        "Units: 64\n",
        "Activation: ReLU (Rectified Linear Unit)\n",
        "Input Shape: (10000,) - This indicates that the input to the model is a 1-dimensional array with 10,000 elements. This is likely the output of a tokenization and one-hot encoding process, where each element represents the presence or absence of a specific word in the vocabulary.\n",
        "Second Dense Layer:\n",
        "Units: 64\n",
        "Activation: ReLU\n",
        "Input Shape: The output of the previous layer.\n",
        "Third Dense Layer:\n",
        "Units: 46\n",
        "Activation: Softmax - This activation function outputs a probability distribution over 46 classes. In the case of the Reuters dataset, these 46 classes represent different news topics.\n",
        "\n",
        "**3. Dropout Layers:**\n",
        "\n",
        "Dropout(0.5): This layer randomly sets 50% of the input units to zero at each update during training. This technique helps prevent overfitting by reducing the model's reliance on specific features.\n",
        "Overall Functionality:\n",
        "\n",
        "Input: The model takes a 10,000-dimensional vector as input, representing a tokenized and one-hot encoded news article.\n",
        "Hidden Layers: The first two dense layers with ReLU activation extract features from the input data. The dropout layers help regularize the model.\n",
        "Output Layer: The final dense layer with softmax activation outputs a probability distribution over 46 classes. The class with the highest probability is predicted as the most likely topic for the input news article.\n",
        "\n",
        "**Why This Architecture for Reuters Dataset?**\n",
        "\n",
        "Dense Layers: Suitable for capturing complex relationships between features.\n",
        "ReLU Activation: Introduces non-linearity, enabling the model to learn intricate patterns.\n",
        "Dropout: Prevents overfitting by randomly dropping out neurons during training.\n",
        "Softmax Activation: Outputs a probability distribution over multiple classes, making it ideal for multi-class classification tasks.\n",
        "This architecture is well-suited for text classification tasks like the Reuters dataset, where the goal is to categorize news articles into different topics.\n",
        "\n",
        "\n",
        "\n",
        "\n",
        "\n",
        "\n",
        "\n",
        "\n"
      ],
      "metadata": {
        "id": "GwqL0mU4VO6T"
      }
    },
    {
      "cell_type": "code",
      "source": [
        "model = tf.keras.Sequential([\n",
        "    tf.keras.layers.Dense(64, activation='relu', input_shape=(10000,)),\n",
        "    tf.keras.layers.Dropout(0.5),\n",
        "    tf.keras.layers.Dense(64, activation='relu'),\n",
        "    tf.keras.layers.Dropout(0.5),\n",
        "    tf.keras.layers.Dense(46, activation='softmax')\n",
        "])\n",
        "\n",
        "model.compile(optimizer='adam',\n",
        "              loss='categorical_crossentropy',\n",
        "              metrics=['accuracy'])\n",
        "\n",
        "# Use the one-hot encoded labels for training and validation\n",
        "model.fit(X_train, y_train_categorical, epochs=20, batch_size=32, validation_data=(X_test, y_test_categorical))"
      ],
      "metadata": {
        "colab": {
          "base_uri": "https://localhost:8080/"
        },
        "id": "gBcX-yJyLxpg",
        "outputId": "3c500d92-3ebf-4a26-c577-daf35f52f7a5"
      },
      "execution_count": null,
      "outputs": [
        {
          "output_type": "stream",
          "name": "stderr",
          "text": [
            "/usr/local/lib/python3.10/dist-packages/keras/src/layers/core/dense.py:87: UserWarning: Do not pass an `input_shape`/`input_dim` argument to a layer. When using Sequential models, prefer using an `Input(shape)` object as the first layer in the model instead.\n",
            "  super().__init__(activity_regularizer=activity_regularizer, **kwargs)\n"
          ]
        },
        {
          "output_type": "stream",
          "name": "stdout",
          "text": [
            "Epoch 1/20\n",
            "\u001b[1m281/281\u001b[0m \u001b[32m━━━━━━━━━━━━━━━━━━━━\u001b[0m\u001b[37m\u001b[0m \u001b[1m6s\u001b[0m 16ms/step - accuracy: 0.4245 - loss: 2.4660 - val_accuracy: 0.6892 - val_loss: 1.3502\n",
            "Epoch 2/20\n",
            "\u001b[1m281/281\u001b[0m \u001b[32m━━━━━━━━━━━━━━━━━━━━\u001b[0m\u001b[37m\u001b[0m \u001b[1m3s\u001b[0m 11ms/step - accuracy: 0.6726 - loss: 1.3734 - val_accuracy: 0.7128 - val_loss: 1.2087\n",
            "Epoch 3/20\n",
            "\u001b[1m281/281\u001b[0m \u001b[32m━━━━━━━━━━━━━━━━━━━━\u001b[0m\u001b[37m\u001b[0m \u001b[1m5s\u001b[0m 11ms/step - accuracy: 0.7270 - loss: 1.1119 - val_accuracy: 0.7342 - val_loss: 1.1269\n",
            "Epoch 4/20\n",
            "\u001b[1m281/281\u001b[0m \u001b[32m━━━━━━━━━━━━━━━━━━━━\u001b[0m\u001b[37m\u001b[0m \u001b[1m6s\u001b[0m 13ms/step - accuracy: 0.7563 - loss: 0.9736 - val_accuracy: 0.7627 - val_loss: 1.0628\n",
            "Epoch 5/20\n",
            "\u001b[1m281/281\u001b[0m \u001b[32m━━━━━━━━━━━━━━━━━━━━\u001b[0m\u001b[37m\u001b[0m \u001b[1m4s\u001b[0m 11ms/step - accuracy: 0.7736 - loss: 0.8722 - val_accuracy: 0.7694 - val_loss: 1.0495\n",
            "Epoch 6/20\n",
            "\u001b[1m281/281\u001b[0m \u001b[32m━━━━━━━━━━━━━━━━━━━━\u001b[0m\u001b[37m\u001b[0m \u001b[1m3s\u001b[0m 10ms/step - accuracy: 0.7962 - loss: 0.7857 - val_accuracy: 0.7720 - val_loss: 1.0641\n",
            "Epoch 7/20\n",
            "\u001b[1m281/281\u001b[0m \u001b[32m━━━━━━━━━━━━━━━━━━━━\u001b[0m\u001b[37m\u001b[0m \u001b[1m6s\u001b[0m 14ms/step - accuracy: 0.8139 - loss: 0.7016 - val_accuracy: 0.7756 - val_loss: 1.0677\n",
            "Epoch 8/20\n",
            "\u001b[1m281/281\u001b[0m \u001b[32m━━━━━━━━━━━━━━━━━━━━\u001b[0m\u001b[37m\u001b[0m \u001b[1m3s\u001b[0m 11ms/step - accuracy: 0.8224 - loss: 0.6778 - val_accuracy: 0.7809 - val_loss: 1.0712\n",
            "Epoch 9/20\n",
            "\u001b[1m281/281\u001b[0m \u001b[32m━━━━━━━━━━━━━━━━━━━━\u001b[0m\u001b[37m\u001b[0m \u001b[1m5s\u001b[0m 10ms/step - accuracy: 0.8276 - loss: 0.6329 - val_accuracy: 0.7823 - val_loss: 1.1009\n",
            "Epoch 10/20\n",
            "\u001b[1m281/281\u001b[0m \u001b[32m━━━━━━━━━━━━━━━━━━━━\u001b[0m\u001b[37m\u001b[0m \u001b[1m5s\u001b[0m 10ms/step - accuracy: 0.8484 - loss: 0.5620 - val_accuracy: 0.7845 - val_loss: 1.1039\n",
            "Epoch 11/20\n",
            "\u001b[1m281/281\u001b[0m \u001b[32m━━━━━━━━━━━━━━━━━━━━\u001b[0m\u001b[37m\u001b[0m \u001b[1m5s\u001b[0m 10ms/step - accuracy: 0.8435 - loss: 0.5673 - val_accuracy: 0.7872 - val_loss: 1.1537\n",
            "Epoch 12/20\n",
            "\u001b[1m281/281\u001b[0m \u001b[32m━━━━━━━━━━━━━━━━━━━━\u001b[0m\u001b[37m\u001b[0m \u001b[1m3s\u001b[0m 11ms/step - accuracy: 0.8572 - loss: 0.5199 - val_accuracy: 0.7845 - val_loss: 1.1700\n",
            "Epoch 13/20\n",
            "\u001b[1m281/281\u001b[0m \u001b[32m━━━━━━━━━━━━━━━━━━━━\u001b[0m\u001b[37m\u001b[0m \u001b[1m4s\u001b[0m 13ms/step - accuracy: 0.8592 - loss: 0.5112 - val_accuracy: 0.7872 - val_loss: 1.1888\n",
            "Epoch 14/20\n",
            "\u001b[1m281/281\u001b[0m \u001b[32m━━━━━━━━━━━━━━━━━━━━\u001b[0m\u001b[37m\u001b[0m \u001b[1m4s\u001b[0m 10ms/step - accuracy: 0.8523 - loss: 0.5230 - val_accuracy: 0.7912 - val_loss: 1.2308\n",
            "Epoch 15/20\n",
            "\u001b[1m281/281\u001b[0m \u001b[32m━━━━━━━━━━━━━━━━━━━━\u001b[0m\u001b[37m\u001b[0m \u001b[1m3s\u001b[0m 10ms/step - accuracy: 0.8616 - loss: 0.4770 - val_accuracy: 0.7907 - val_loss: 1.2336\n",
            "Epoch 16/20\n",
            "\u001b[1m281/281\u001b[0m \u001b[32m━━━━━━━━━━━━━━━━━━━━\u001b[0m\u001b[37m\u001b[0m \u001b[1m7s\u001b[0m 15ms/step - accuracy: 0.8607 - loss: 0.4766 - val_accuracy: 0.7916 - val_loss: 1.2486\n",
            "Epoch 17/20\n",
            "\u001b[1m281/281\u001b[0m \u001b[32m━━━━━━━━━━━━━━━━━━━━\u001b[0m\u001b[37m\u001b[0m \u001b[1m3s\u001b[0m 11ms/step - accuracy: 0.8762 - loss: 0.4423 - val_accuracy: 0.7876 - val_loss: 1.2763\n",
            "Epoch 18/20\n",
            "\u001b[1m281/281\u001b[0m \u001b[32m━━━━━━━━━━━━━━━━━━━━\u001b[0m\u001b[37m\u001b[0m \u001b[1m3s\u001b[0m 10ms/step - accuracy: 0.8711 - loss: 0.4514 - val_accuracy: 0.7903 - val_loss: 1.2904\n",
            "Epoch 19/20\n",
            "\u001b[1m281/281\u001b[0m \u001b[32m━━━━━━━━━━━━━━━━━━━━\u001b[0m\u001b[37m\u001b[0m \u001b[1m3s\u001b[0m 10ms/step - accuracy: 0.8784 - loss: 0.4241 - val_accuracy: 0.7921 - val_loss: 1.3273\n",
            "Epoch 20/20\n",
            "\u001b[1m281/281\u001b[0m \u001b[32m━━━━━━━━━━━━━━━━━━━━\u001b[0m\u001b[37m\u001b[0m \u001b[1m5s\u001b[0m 10ms/step - accuracy: 0.8860 - loss: 0.4162 - val_accuracy: 0.7876 - val_loss: 1.3273\n"
          ]
        },
        {
          "output_type": "execute_result",
          "data": {
            "text/plain": [
              "<keras.src.callbacks.history.History at 0x78a742294cd0>"
            ]
          },
          "metadata": {},
          "execution_count": 14
        }
      ]
    }
  ]
}